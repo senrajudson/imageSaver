{
 "cells": [
  {
   "cell_type": "code",
   "execution_count": 1,
   "metadata": {},
   "outputs": [
    {
     "data": {
      "text/plain": [
       "'\\nnew changes\\n'"
      ]
     },
     "execution_count": 1,
     "metadata": {},
     "output_type": "execute_result"
    }
   ],
   "source": [
    "from concat import ConcatFramesNumpy\n",
    "video_maker = ConcatFramesNumpy\n",
    "video_maker = ConcatFramesNumpy()\n",
    "\"\"\"\n",
    "new changes\n",
    "\"\"\""
   ]
  },
  {
   "cell_type": "code",
   "execution_count": 2,
   "metadata": {},
   "outputs": [
    {
     "name": "stdout",
     "output_type": "stream",
     "text": [
      "Moviepy - Building video ../../video_pelotas_2023-01-11_05/vid_1.mp4.\n",
      "Moviepy - Writing video ../../video_pelotas_2023-01-11_05/vid_1.mp4\n",
      "\n"
     ]
    },
    {
     "name": "stderr",
     "output_type": "stream",
     "text": [
      "                                                                \r"
     ]
    },
    {
     "name": "stdout",
     "output_type": "stream",
     "text": [
      "Moviepy - Done !\n",
      "Moviepy - video ready ../../video_pelotas_2023-01-11_05/vid_1.mp4\n"
     ]
    }
   ],
   "source": [
    "\n",
    "video_maker.output_folder = \"video_pelotas_2023-01-11_05\"\n",
    "video_maker.read_frame = \"D:/Judson_projetos/frame_save_pelotas/projeto_pelotas/projeto_pelotas_2023-01-11_05\"\n",
    "frames = video_maker.read_frame\n",
    "frames = video_maker.matrix_color(frames, \"BGR>RGB\")\n",
    "video = video_maker.convert_vid(frames, fps=5)\n",
    "video_maker.save(video, \"vid_1\")"
   ]
  }
 ],
 "metadata": {
  "kernelspec": {
   "display_name": "concat-numpy-xDppF6Kf-py3.11",
   "language": "python",
   "name": "python3"
  },
  "language_info": {
   "codemirror_mode": {
    "name": "ipython",
    "version": 3
   },
   "file_extension": ".py",
   "mimetype": "text/x-python",
   "name": "python",
   "nbconvert_exporter": "python",
   "pygments_lexer": "ipython3",
   "version": "3.10.4"
  },
  "orig_nbformat": 4
 },
 "nbformat": 4,
 "nbformat_minor": 2
}
